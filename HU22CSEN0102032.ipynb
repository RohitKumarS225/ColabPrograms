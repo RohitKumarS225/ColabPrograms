{
  "nbformat": 4,
  "nbformat_minor": 0,
  "metadata": {
    "colab": {
      "provenance": [],
      "authorship_tag": "ABX9TyMZzitKxKSmd3YNzqdKWeJM",
      "include_colab_link": true
    },
    "kernelspec": {
      "name": "python3",
      "display_name": "Python 3"
    },
    "language_info": {
      "name": "python"
    }
  },
  "cells": [
    {
      "cell_type": "markdown",
      "metadata": {
        "id": "view-in-github",
        "colab_type": "text"
      },
      "source": [
        "<a href=\"https://colab.research.google.com/github/RohitKumarS225/ColabPrograms/blob/main/HU22CSEN0102032.ipynb\" target=\"_parent\"><img src=\"https://colab.research.google.com/assets/colab-badge.svg\" alt=\"Open In Colab\"/></a>"
      ]
    },
    {
      "cell_type": "code",
      "source": [
        "from google.colab import drive\n",
        "drive.mount('/content/drive')"
      ],
      "metadata": {
        "colab": {
          "base_uri": "https://localhost:8080/"
        },
        "id": "Lt4FhOQFqA5A",
        "outputId": "96f40f77-7cf0-4eb6-df3d-c24a48d2b0e0"
      },
      "execution_count": null,
      "outputs": [
        {
          "output_type": "stream",
          "name": "stdout",
          "text": [
            "Mounted at /content/drive\n"
          ]
        }
      ]
    },
    {
      "cell_type": "code",
      "source": [
        "a=10\n",
        "b=20\n",
        "result=a+b\n",
        "print(f\"Hardcoded Addition: {a}+{b}={result}\")"
      ],
      "metadata": {
        "colab": {
          "base_uri": "https://localhost:8080/"
        },
        "id": "XuSGWzZeqKIC",
        "outputId": "95787dd3-f39d-417e-91bd-7b1d2fb07c30"
      },
      "execution_count": null,
      "outputs": [
        {
          "output_type": "stream",
          "name": "stdout",
          "text": [
            "Hardcoded Addition: 10+20=30\n"
          ]
        }
      ]
    },
    {
      "cell_type": "code",
      "source": [
        "try:\n",
        "  x=int(input(\"Enter the First Number: \"))\n",
        "  y=int(input(\"Enter the Second Number: \"))\n",
        "  result=x+y\n",
        "  print(f\"User Input Addition: {x} + {y} = {result}\")\n",
        "except ValueError:\n",
        "  print(\"Please Enter valid integers!\")"
      ],
      "metadata": {
        "colab": {
          "base_uri": "https://localhost:8080/"
        },
        "id": "lYEF4cQ2rqdV",
        "outputId": "69dfd3a3-ad9e-49ac-b80f-ce10033738bc"
      },
      "execution_count": null,
      "outputs": [
        {
          "output_type": "stream",
          "name": "stdout",
          "text": [
            "Enter the First Number: 46\n",
            "Enter the Second Number: 55\n",
            "User Input Addition: 46 + 55 = 101\n"
          ]
        }
      ]
    },
    {
      "cell_type": "code",
      "source": [
        "with open(\"single_input.txt\",\"w\") as f:\n",
        "  f.write(\"48\")\n",
        "try:\n",
        "  with open(\"single_input.txt\",\"r\") as f:\n",
        "    num=int(f.read().strip())\n",
        "    result=num*4\n",
        "    print(f\"Single Input Read from File : {num} * 4 = {result}\")\n",
        "except FileNotFoundError:\n",
        "  print(\"File Not Found!\")\n",
        "except ValueError:\n",
        "  print(\"Error in reading or converting the input!\")"
      ],
      "metadata": {
        "colab": {
          "base_uri": "https://localhost:8080/"
        },
        "id": "bE-KX3UVsKPc",
        "outputId": "9deceba2-dff1-4d04-9aa8-d347bd19839d"
      },
      "execution_count": null,
      "outputs": [
        {
          "output_type": "stream",
          "name": "stdout",
          "text": [
            "Single Input Read from File : 48 * 4 = 192\n"
          ]
        }
      ]
    },
    {
      "cell_type": "code",
      "source": [
        "with open(\"Multiple_input.txt\",\"w\") as f:\n",
        "  f.write(\"3/n5/n7\")\n",
        "try:\n",
        "  with open(\"/content/drive/MyDrive/multiple_input.txt\",\"r\") as f:\n",
        "    numbers=[int(line.strip()) for line in f.readlines()]\n",
        "    result=sum(numbers)\n",
        "    print(f\"Multiple Inputs read from File: {numbers}, Sum = {result}\")\n",
        "except FileNotFoundError:\n",
        "  print(\"File not Found!\")\n",
        "except ValueError:\n",
        "  print(\"Error in Reading or Converting the input!\")"
      ],
      "metadata": {
        "colab": {
          "base_uri": "https://localhost:8080/"
        },
        "id": "9pJZI5JetKsP",
        "outputId": "b2962780-30b1-43d3-ebb0-36b353e9b084"
      },
      "execution_count": 15,
      "outputs": [
        {
          "output_type": "stream",
          "name": "stdout",
          "text": [
            "Multiple Inputs read from File: [3, 5, 7], Sum = 15\n"
          ]
        }
      ]
    },
    {
      "cell_type": "code",
      "source": [],
      "metadata": {
        "id": "9U7y10HSuhp0"
      },
      "execution_count": null,
      "outputs": []
    }
  ]
}